{
 "cells": [
  {
   "cell_type": "code",
   "execution_count": 47,
   "id": "638b6d0a",
   "metadata": {},
   "outputs": [],
   "source": [
    "import numpy as np \n",
    "import pandas as pd  \n",
    "import warnings \n",
    "warnings.filterwarnings('ignore') "
   ]
  },
  {
   "cell_type": "code",
   "execution_count": 48,
   "id": "5df3b265",
   "metadata": {},
   "outputs": [],
   "source": [
    "data=pd.read_csv('MRTSSM451211USN.csv') "
   ]
  },
  {
   "cell_type": "code",
   "execution_count": 49,
   "id": "ca171180",
   "metadata": {},
   "outputs": [],
   "source": [
    "from datetime import datetime,timedelta "
   ]
  },
  {
   "cell_type": "code",
   "execution_count": 50,
   "id": "c3a1638d",
   "metadata": {},
   "outputs": [],
   "source": [
    "data.columns=[\"Month\",\"Sales\"] "
   ]
  },
  {
   "cell_type": "code",
   "execution_count": 51,
   "id": "7c056a47",
   "metadata": {},
   "outputs": [],
   "source": [
    "data['Month']=pd.to_datetime(data['Month'],infer_datetime_format=True) \n",
    "data.set_index('Month',inplace=True) "
   ]
  },
  {
   "cell_type": "code",
   "execution_count": 52,
   "id": "eb6a9ccb",
   "metadata": {},
   "outputs": [
    {
     "data": {
      "text/html": [
       "<div>\n",
       "<style scoped>\n",
       "    .dataframe tbody tr th:only-of-type {\n",
       "        vertical-align: middle;\n",
       "    }\n",
       "\n",
       "    .dataframe tbody tr th {\n",
       "        vertical-align: top;\n",
       "    }\n",
       "\n",
       "    .dataframe thead th {\n",
       "        text-align: right;\n",
       "    }\n",
       "</style>\n",
       "<table border=\"1\" class=\"dataframe\">\n",
       "  <thead>\n",
       "    <tr style=\"text-align: right;\">\n",
       "      <th></th>\n",
       "      <th>Sales</th>\n",
       "    </tr>\n",
       "    <tr>\n",
       "      <th>Month</th>\n",
       "      <th></th>\n",
       "    </tr>\n",
       "  </thead>\n",
       "  <tbody>\n",
       "    <tr>\n",
       "      <th>1992-01-01</th>\n",
       "      <td>790</td>\n",
       "    </tr>\n",
       "    <tr>\n",
       "      <th>1992-01-02</th>\n",
       "      <td>539</td>\n",
       "    </tr>\n",
       "    <tr>\n",
       "      <th>1992-01-03</th>\n",
       "      <td>535</td>\n",
       "    </tr>\n",
       "    <tr>\n",
       "      <th>1992-01-04</th>\n",
       "      <td>523</td>\n",
       "    </tr>\n",
       "    <tr>\n",
       "      <th>1992-01-05</th>\n",
       "      <td>552</td>\n",
       "    </tr>\n",
       "    <tr>\n",
       "      <th>1992-01-06</th>\n",
       "      <td>589</td>\n",
       "    </tr>\n",
       "    <tr>\n",
       "      <th>1992-01-07</th>\n",
       "      <td>592</td>\n",
       "    </tr>\n",
       "    <tr>\n",
       "      <th>1992-01-08</th>\n",
       "      <td>894</td>\n",
       "    </tr>\n",
       "    <tr>\n",
       "      <th>1992-01-09</th>\n",
       "      <td>861</td>\n",
       "    </tr>\n",
       "    <tr>\n",
       "      <th>1992-01-10</th>\n",
       "      <td>645</td>\n",
       "    </tr>\n",
       "    <tr>\n",
       "      <th>1992-01-11</th>\n",
       "      <td>642</td>\n",
       "    </tr>\n",
       "    <tr>\n",
       "      <th>1992-01-12</th>\n",
       "      <td>1165</td>\n",
       "    </tr>\n",
       "    <tr>\n",
       "      <th>1993-01-01</th>\n",
       "      <td>998</td>\n",
       "    </tr>\n",
       "    <tr>\n",
       "      <th>1993-01-02</th>\n",
       "      <td>568</td>\n",
       "    </tr>\n",
       "    <tr>\n",
       "      <th>1993-01-03</th>\n",
       "      <td>602</td>\n",
       "    </tr>\n",
       "  </tbody>\n",
       "</table>\n",
       "</div>"
      ],
      "text/plain": [
       "            Sales\n",
       "Month            \n",
       "1992-01-01    790\n",
       "1992-01-02    539\n",
       "1992-01-03    535\n",
       "1992-01-04    523\n",
       "1992-01-05    552\n",
       "1992-01-06    589\n",
       "1992-01-07    592\n",
       "1992-01-08    894\n",
       "1992-01-09    861\n",
       "1992-01-10    645\n",
       "1992-01-11    642\n",
       "1992-01-12   1165\n",
       "1993-01-01    998\n",
       "1993-01-02    568\n",
       "1993-01-03    602"
      ]
     },
     "execution_count": 52,
     "metadata": {},
     "output_type": "execute_result"
    }
   ],
   "source": [
    "data.head(15)  "
   ]
  },
  {
   "cell_type": "code",
   "execution_count": 53,
   "id": "a9a19d25",
   "metadata": {},
   "outputs": [
    {
     "data": {
      "text/html": [
       "<div>\n",
       "<style scoped>\n",
       "    .dataframe tbody tr th:only-of-type {\n",
       "        vertical-align: middle;\n",
       "    }\n",
       "\n",
       "    .dataframe tbody tr th {\n",
       "        vertical-align: top;\n",
       "    }\n",
       "\n",
       "    .dataframe thead th {\n",
       "        text-align: right;\n",
       "    }\n",
       "</style>\n",
       "<table border=\"1\" class=\"dataframe\">\n",
       "  <thead>\n",
       "    <tr style=\"text-align: right;\">\n",
       "      <th></th>\n",
       "      <th>Sales</th>\n",
       "    </tr>\n",
       "    <tr>\n",
       "      <th>Month</th>\n",
       "      <th></th>\n",
       "    </tr>\n",
       "  </thead>\n",
       "  <tbody>\n",
       "    <tr>\n",
       "      <th>2018-01-08</th>\n",
       "      <td>1368</td>\n",
       "    </tr>\n",
       "    <tr>\n",
       "      <th>2018-01-09</th>\n",
       "      <td>976</td>\n",
       "    </tr>\n",
       "    <tr>\n",
       "      <th>2018-01-10</th>\n",
       "      <td>722</td>\n",
       "    </tr>\n",
       "    <tr>\n",
       "      <th>2018-01-11</th>\n",
       "      <td>752</td>\n",
       "    </tr>\n",
       "    <tr>\n",
       "      <th>2018-01-12</th>\n",
       "      <td>1270</td>\n",
       "    </tr>\n",
       "    <tr>\n",
       "      <th>2019-01-01</th>\n",
       "      <td>1136</td>\n",
       "    </tr>\n",
       "    <tr>\n",
       "      <th>2019-01-02</th>\n",
       "      <td>644</td>\n",
       "    </tr>\n",
       "    <tr>\n",
       "      <th>2019-01-03</th>\n",
       "      <td>664</td>\n",
       "    </tr>\n",
       "    <tr>\n",
       "      <th>2019-01-04</th>\n",
       "      <td>713</td>\n",
       "    </tr>\n",
       "    <tr>\n",
       "      <th>2019-01-05</th>\n",
       "      <td>763</td>\n",
       "    </tr>\n",
       "    <tr>\n",
       "      <th>2019-01-06</th>\n",
       "      <td>672</td>\n",
       "    </tr>\n",
       "    <tr>\n",
       "      <th>2019-01-07</th>\n",
       "      <td>646</td>\n",
       "    </tr>\n",
       "    <tr>\n",
       "      <th>2019-01-08</th>\n",
       "      <td>1226</td>\n",
       "    </tr>\n",
       "    <tr>\n",
       "      <th>2019-01-09</th>\n",
       "      <td>952</td>\n",
       "    </tr>\n",
       "    <tr>\n",
       "      <th>2019-01-10</th>\n",
       "      <td>710</td>\n",
       "    </tr>\n",
       "  </tbody>\n",
       "</table>\n",
       "</div>"
      ],
      "text/plain": [
       "            Sales\n",
       "Month            \n",
       "2018-01-08   1368\n",
       "2018-01-09    976\n",
       "2018-01-10    722\n",
       "2018-01-11    752\n",
       "2018-01-12   1270\n",
       "2019-01-01   1136\n",
       "2019-01-02    644\n",
       "2019-01-03    664\n",
       "2019-01-04    713\n",
       "2019-01-05    763\n",
       "2019-01-06    672\n",
       "2019-01-07    646\n",
       "2019-01-08   1226\n",
       "2019-01-09    952\n",
       "2019-01-10    710"
      ]
     },
     "execution_count": 53,
     "metadata": {},
     "output_type": "execute_result"
    }
   ],
   "source": [
    "data.tail(15) "
   ]
  },
  {
   "cell_type": "code",
   "execution_count": 54,
   "id": "ec44eae9",
   "metadata": {},
   "outputs": [],
   "source": [
    "### Testing For Stationarity\n",
    "from statsmodels.tsa.stattools import adfuller "
   ]
  },
  {
   "cell_type": "code",
   "execution_count": 55,
   "id": "75111d86",
   "metadata": {},
   "outputs": [],
   "source": [
    "test_result=adfuller(data['Sales']) "
   ]
  },
  {
   "cell_type": "code",
   "execution_count": 56,
   "id": "d21e6194",
   "metadata": {},
   "outputs": [],
   "source": [
    "#Ho: It is non stationary \n",
    "#H1: It is stationary \n",
    "\n",
    "def adfuller_test(sales):\n",
    "    result=adfuller(sales)\n",
    "    labels = ['ADF Test Statistic','p-value','#Lags Used','Number of Observations Used']\n",
    "    for value,label in zip(result,labels):\n",
    "        print(label+' : '+str(value) )\n",
    "    if result[1] <= 0.05:\n",
    "        print(\"strong evidence against the null hypothesis(Ho), reject the null hypothesis. Data has no unit root and is stationary\")\n",
    "    else:\n",
    "        print(\"weak evidence against null hypothesis, time series has a unit root, indicating it is non-stationary \")\n",
    "    "
   ]
  },
  {
   "cell_type": "code",
   "execution_count": 57,
   "id": "c1eb83f3",
   "metadata": {},
   "outputs": [
    {
     "name": "stdout",
     "output_type": "stream",
     "text": [
      "ADF Test Statistic : -1.2305707169727274\n",
      "p-value : 0.6603086862726568\n",
      "#Lags Used : 16\n",
      "Number of Observations Used : 317\n",
      "weak evidence against null hypothesis, time series has a unit root, indicating it is non-stationary \n"
     ]
    }
   ],
   "source": [
    "adfuller_test(data['Sales'])"
   ]
  },
  {
   "cell_type": "code",
   "execution_count": 58,
   "id": "11cd35df",
   "metadata": {},
   "outputs": [],
   "source": [
    "data['Sales First Difference'] = data['Sales'] - data['Sales'].shift(1)"
   ]
  },
  {
   "cell_type": "code",
   "execution_count": 59,
   "id": "eea78ab3",
   "metadata": {},
   "outputs": [
    {
     "data": {
      "text/plain": [
       "Month\n",
       "1992-01-01       NaN\n",
       "1992-01-02     790.0\n",
       "1992-01-03     539.0\n",
       "1992-01-04     535.0\n",
       "1992-01-05     523.0\n",
       "               ...  \n",
       "2019-01-06     763.0\n",
       "2019-01-07     672.0\n",
       "2019-01-08     646.0\n",
       "2019-01-09    1226.0\n",
       "2019-01-10     952.0\n",
       "Name: Sales, Length: 334, dtype: float64"
      ]
     },
     "execution_count": 59,
     "metadata": {},
     "output_type": "execute_result"
    }
   ],
   "source": [
    "data['Sales'].shift(1)"
   ]
  },
  {
   "cell_type": "code",
   "execution_count": 60,
   "id": "00424444",
   "metadata": {},
   "outputs": [],
   "source": [
    "data['Seasonal First Difference']=data['Sales']-data['Sales'].shift(12)"
   ]
  },
  {
   "cell_type": "code",
   "execution_count": 61,
   "id": "21c87d66",
   "metadata": {},
   "outputs": [
    {
     "data": {
      "text/html": [
       "<div>\n",
       "<style scoped>\n",
       "    .dataframe tbody tr th:only-of-type {\n",
       "        vertical-align: middle;\n",
       "    }\n",
       "\n",
       "    .dataframe tbody tr th {\n",
       "        vertical-align: top;\n",
       "    }\n",
       "\n",
       "    .dataframe thead th {\n",
       "        text-align: right;\n",
       "    }\n",
       "</style>\n",
       "<table border=\"1\" class=\"dataframe\">\n",
       "  <thead>\n",
       "    <tr style=\"text-align: right;\">\n",
       "      <th></th>\n",
       "      <th>Sales</th>\n",
       "      <th>Sales First Difference</th>\n",
       "      <th>Seasonal First Difference</th>\n",
       "    </tr>\n",
       "    <tr>\n",
       "      <th>Month</th>\n",
       "      <th></th>\n",
       "      <th></th>\n",
       "      <th></th>\n",
       "    </tr>\n",
       "  </thead>\n",
       "  <tbody>\n",
       "    <tr>\n",
       "      <th>1992-01-01</th>\n",
       "      <td>790</td>\n",
       "      <td>NaN</td>\n",
       "      <td>NaN</td>\n",
       "    </tr>\n",
       "    <tr>\n",
       "      <th>1992-01-02</th>\n",
       "      <td>539</td>\n",
       "      <td>-251.0</td>\n",
       "      <td>NaN</td>\n",
       "    </tr>\n",
       "    <tr>\n",
       "      <th>1992-01-03</th>\n",
       "      <td>535</td>\n",
       "      <td>-4.0</td>\n",
       "      <td>NaN</td>\n",
       "    </tr>\n",
       "    <tr>\n",
       "      <th>1992-01-04</th>\n",
       "      <td>523</td>\n",
       "      <td>-12.0</td>\n",
       "      <td>NaN</td>\n",
       "    </tr>\n",
       "    <tr>\n",
       "      <th>1992-01-05</th>\n",
       "      <td>552</td>\n",
       "      <td>29.0</td>\n",
       "      <td>NaN</td>\n",
       "    </tr>\n",
       "    <tr>\n",
       "      <th>1992-01-06</th>\n",
       "      <td>589</td>\n",
       "      <td>37.0</td>\n",
       "      <td>NaN</td>\n",
       "    </tr>\n",
       "    <tr>\n",
       "      <th>1992-01-07</th>\n",
       "      <td>592</td>\n",
       "      <td>3.0</td>\n",
       "      <td>NaN</td>\n",
       "    </tr>\n",
       "    <tr>\n",
       "      <th>1992-01-08</th>\n",
       "      <td>894</td>\n",
       "      <td>302.0</td>\n",
       "      <td>NaN</td>\n",
       "    </tr>\n",
       "    <tr>\n",
       "      <th>1992-01-09</th>\n",
       "      <td>861</td>\n",
       "      <td>-33.0</td>\n",
       "      <td>NaN</td>\n",
       "    </tr>\n",
       "    <tr>\n",
       "      <th>1992-01-10</th>\n",
       "      <td>645</td>\n",
       "      <td>-216.0</td>\n",
       "      <td>NaN</td>\n",
       "    </tr>\n",
       "    <tr>\n",
       "      <th>1992-01-11</th>\n",
       "      <td>642</td>\n",
       "      <td>-3.0</td>\n",
       "      <td>NaN</td>\n",
       "    </tr>\n",
       "    <tr>\n",
       "      <th>1992-01-12</th>\n",
       "      <td>1165</td>\n",
       "      <td>523.0</td>\n",
       "      <td>NaN</td>\n",
       "    </tr>\n",
       "    <tr>\n",
       "      <th>1993-01-01</th>\n",
       "      <td>998</td>\n",
       "      <td>-167.0</td>\n",
       "      <td>208.0</td>\n",
       "    </tr>\n",
       "    <tr>\n",
       "      <th>1993-01-02</th>\n",
       "      <td>568</td>\n",
       "      <td>-430.0</td>\n",
       "      <td>29.0</td>\n",
       "    </tr>\n",
       "  </tbody>\n",
       "</table>\n",
       "</div>"
      ],
      "text/plain": [
       "            Sales  Sales First Difference  Seasonal First Difference\n",
       "Month                                                               \n",
       "1992-01-01    790                     NaN                        NaN\n",
       "1992-01-02    539                  -251.0                        NaN\n",
       "1992-01-03    535                    -4.0                        NaN\n",
       "1992-01-04    523                   -12.0                        NaN\n",
       "1992-01-05    552                    29.0                        NaN\n",
       "1992-01-06    589                    37.0                        NaN\n",
       "1992-01-07    592                     3.0                        NaN\n",
       "1992-01-08    894                   302.0                        NaN\n",
       "1992-01-09    861                   -33.0                        NaN\n",
       "1992-01-10    645                  -216.0                        NaN\n",
       "1992-01-11    642                    -3.0                        NaN\n",
       "1992-01-12   1165                   523.0                        NaN\n",
       "1993-01-01    998                  -167.0                      208.0\n",
       "1993-01-02    568                  -430.0                       29.0"
      ]
     },
     "execution_count": 61,
     "metadata": {},
     "output_type": "execute_result"
    }
   ],
   "source": [
    "data.head(14)"
   ]
  },
  {
   "cell_type": "code",
   "execution_count": 62,
   "id": "d01be84e",
   "metadata": {},
   "outputs": [
    {
     "name": "stdout",
     "output_type": "stream",
     "text": [
      "ADF Test Statistic : -3.458336897549525\n",
      "p-value : 0.00912382344944219\n",
      "#Lags Used : 4\n",
      "Number of Observations Used : 317\n",
      "strong evidence against the null hypothesis(Ho), reject the null hypothesis. Data has no unit root and is stationary\n"
     ]
    }
   ],
   "source": [
    "adfuller_test(data['Seasonal First Difference'].dropna()) "
   ]
  },
  {
   "cell_type": "code",
   "execution_count": 63,
   "id": "8f73d151",
   "metadata": {},
   "outputs": [
    {
     "data": {
      "text/plain": [
       "<AxesSubplot:xlabel='Month'>"
      ]
     },
     "execution_count": 63,
     "metadata": {},
     "output_type": "execute_result"
    },
    {
     "data": {
      "image/png": "[encoded data removed]",
      "text/plain": [
       "<Figure size 432x288 with 1 Axes>"
      ]
     },
     "metadata": {
      "needs_background": "light"
     },
     "output_type": "display_data"
    }
   ],
   "source": [
    "data['Seasonal First Difference'].plot() "
   ]
  },
  {
   "cell_type": "code",
   "execution_count": 64,
   "id": "3e916d77",
   "metadata": {},
   "outputs": [],
   "source": [
    "# from statsmodels.graphics.tsaplots import plot_acf,plot_pacf \n",
    "from statsmodels.graphics.tsaplots import plot_acf,plot_pacf \n",
    "import statsmodels.api as sm \n",
    "import matplotlib.pyplot as plt "
   ]
  },
  {
   "cell_type": "code",
   "execution_count": 65,
   "id": "a0c97d97",
   "metadata": {},
   "outputs": [
    {
     "data": {
      "image/png": "[encoded data removed]",
      "text/plain": [
       "<Figure size 864x576 with 2 Axes>"
      ]
     },
     "metadata": {
      "needs_background": "light"
     },
     "output_type": "display_data"
    }
   ],
   "source": [
    "fig = plt.figure(figsize=(12,8)) \n",
    "ax1 = fig.add_subplot(211) \n",
    "fig = sm.graphics.tsa.plot_acf(data['Seasonal First Difference'].iloc[13:],lags=40,ax=ax1) \n",
    "ax2 = fig.add_subplot(212) \n",
    "fig = sm.graphics.tsa.plot_pacf(data['Seasonal First Difference'].iloc[13:],lags=40,ax=ax2) "
   ]
  },
  {
   "cell_type": "code",
   "execution_count": 66,
   "id": "c7ade7df",
   "metadata": {},
   "outputs": [
    {
     "name": "stdout",
     "output_type": "stream",
     "text": [
      "Examples of parameter combinations for Seasonal ARIMA...\n",
      "SARIMAX: (0, 0, 1) x (0, 0, 1, 12)\n",
      "SARIMAX: (0, 0, 1) x (0, 1, 0, 12)\n",
      "SARIMAX: (0, 1, 0) x (0, 1, 1, 12)\n",
      "SARIMAX: (0, 1, 0) x (1, 0, 0, 12)\n"
     ]
    }
   ],
   "source": [
    "import itertools \n",
    "p = d = q = range(0, 2) \n",
    "pdq = list(itertools.product(p, d, q)) \n",
    "seasonal_pdq = [(x[0], x[1], x[2], 12) for x in list(itertools.product(p, d, q))] \n",
    "print('Examples of parameter combinations for Seasonal ARIMA...') \n",
    "print('SARIMAX: {} x {}'.format(pdq[1], seasonal_pdq[1])) \n",
    "print('SARIMAX: {} x {}'.format(pdq[1], seasonal_pdq[2])) \n",
    "print('SARIMAX: {} x {}'.format(pdq[2], seasonal_pdq[3])) \n",
    "print('SARIMAX: {} x {}'.format(pdq[2], seasonal_pdq[4])) "
   ]
  },
  {
   "cell_type": "code",
   "execution_count": 67,
   "id": "36943d6b",
   "metadata": {},
   "outputs": [
    {
     "name": "stdout",
     "output_type": "stream",
     "text": [
      "ARIMA(0, 0, 0)x(0, 0, 0, 12)12 - AIC:5659.228115156593\n",
      "ARIMA(0, 0, 0)x(0, 0, 1, 12)12 - AIC:5065.255999089926\n",
      "ARIMA(0, 0, 0)x(0, 1, 0, 12)12 - AIC:3810.1334941885866\n",
      "ARIMA(0, 0, 0)x(0, 1, 1, 12)12 - AIC:3663.866247011736\n",
      "ARIMA(0, 0, 0)x(1, 0, 0, 12)12 - AIC:3828.169340213126\n",
      "ARIMA(0, 0, 0)x(1, 0, 1, 12)12 - AIC:3800.9769804810758\n",
      "ARIMA(0, 0, 0)x(1, 1, 0, 12)12 - AIC:3666.905260426951\n",
      "ARIMA(0, 0, 0)x(1, 1, 1, 12)12 - AIC:3616.846603889741\n",
      "ARIMA(0, 0, 1)x(0, 0, 0, 12)12 - AIC:5313.568363609427\n",
      "ARIMA(0, 0, 1)x(0, 0, 1, 12)12 - AIC:4748.4339096823915\n",
      "ARIMA(0, 0, 1)x(0, 1, 0, 12)12 - AIC:3741.5688832357146\n",
      "ARIMA(0, 0, 1)x(0, 1, 1, 12)12 - AIC:3607.186086022743\n",
      "ARIMA(0, 0, 1)x(1, 0, 0, 12)12 - AIC:3770.587509036859\n",
      "ARIMA(0, 0, 1)x(1, 0, 1, 12)12 - AIC:3741.827938764036\n",
      "ARIMA(0, 0, 1)x(1, 1, 0, 12)12 - AIC:3627.502741900062\n",
      "ARIMA(0, 0, 1)x(1, 1, 1, 12)12 - AIC:3579.710000674672\n",
      "ARIMA(0, 1, 0)x(0, 0, 0, 12)12 - AIC:5010.722179677357\n",
      "ARIMA(0, 1, 0)x(0, 0, 1, 12)12 - AIC:4479.125745165011\n",
      "ARIMA(0, 1, 0)x(0, 1, 0, 12)12 - AIC:3798.6407487952324\n",
      "ARIMA(0, 1, 0)x(0, 1, 1, 12)12 - AIC:3665.581085650396\n",
      "ARIMA(0, 1, 0)x(1, 0, 0, 12)12 - AIC:3813.2515803373817\n",
      "ARIMA(0, 1, 0)x(1, 0, 1, 12)12 - AIC:3798.662403955157\n",
      "ARIMA(0, 1, 0)x(1, 1, 0, 12)12 - AIC:3676.446801944626\n",
      "ARIMA(0, 1, 0)x(1, 1, 1, 12)12 - AIC:3667.5481840927755\n",
      "ARIMA(0, 1, 1)x(0, 0, 0, 12)12 - AIC:4878.674392280072\n",
      "ARIMA(0, 1, 1)x(0, 0, 1, 12)12 - AIC:4371.5227018001515\n",
      "ARIMA(0, 1, 1)x(0, 1, 0, 12)12 - AIC:3657.701441236785\n",
      "ARIMA(0, 1, 1)x(0, 1, 1, 12)12 - AIC:3525.7207357109846\n",
      "ARIMA(0, 1, 1)x(1, 0, 0, 12)12 - AIC:3683.3684972622195\n",
      "ARIMA(0, 1, 1)x(1, 0, 1, 12)12 - AIC:3654.022151184472\n",
      "ARIMA(0, 1, 1)x(1, 1, 0, 12)12 - AIC:3546.267765970383\n",
      "ARIMA(0, 1, 1)x(1, 1, 1, 12)12 - AIC:3525.928157638774\n",
      "ARIMA(1, 0, 0)x(0, 0, 0, 12)12 - AIC:5014.433076501845\n",
      "ARIMA(1, 0, 0)x(0, 0, 1, 12)12 - AIC:4482.313938871161\n",
      "ARIMA(1, 0, 0)x(0, 1, 0, 12)12 - AIC:3720.19780757097\n",
      "ARIMA(1, 0, 0)x(0, 1, 1, 12)12 - AIC:3590.9892645306572\n",
      "ARIMA(1, 0, 0)x(1, 0, 0, 12)12 - AIC:3721.822635653489\n",
      "ARIMA(1, 0, 0)x(1, 0, 1, 12)12 - AIC:3723.594435561309\n",
      "ARIMA(1, 0, 0)x(1, 1, 0, 12)12 - AIC:3590.9355132310466\n",
      "ARIMA(1, 0, 0)x(1, 1, 1, 12)12 - AIC:3578.5725785559034\n",
      "ARIMA(1, 0, 1)x(0, 0, 0, 12)12 - AIC:4910.525020740224\n",
      "ARIMA(1, 0, 1)x(0, 0, 1, 12)12 - AIC:4387.235201157102\n",
      "ARIMA(1, 0, 1)x(0, 1, 0, 12)12 - AIC:3665.908959838504\n",
      "ARIMA(1, 0, 1)x(0, 1, 1, 12)12 - AIC:3535.125434141779\n",
      "ARIMA(1, 0, 1)x(1, 0, 0, 12)12 - AIC:3680.222060112449\n",
      "ARIMA(1, 0, 1)x(1, 0, 1, 12)12 - AIC:3663.8657100934415\n",
      "ARIMA(1, 0, 1)x(1, 1, 0, 12)12 - AIC:3544.819147522624\n",
      "ARIMA(1, 0, 1)x(1, 1, 1, 12)12 - AIC:3535.9413636451163\n",
      "ARIMA(1, 1, 0)x(0, 0, 0, 12)12 - AIC:5009.054245440635\n",
      "ARIMA(1, 1, 0)x(0, 0, 1, 12)12 - AIC:4476.265497881015\n",
      "ARIMA(1, 1, 0)x(0, 1, 0, 12)12 - AIC:3737.654522827258\n",
      "ARIMA(1, 1, 0)x(0, 1, 1, 12)12 - AIC:3608.457869546556\n",
      "ARIMA(1, 1, 0)x(1, 0, 0, 12)12 - AIC:3738.071266757617\n",
      "ARIMA(1, 1, 0)x(1, 0, 1, 12)12 - AIC:3739.506455890466\n",
      "ARIMA(1, 1, 0)x(1, 1, 0, 12)12 - AIC:3608.380528121726\n",
      "ARIMA(1, 1, 0)x(1, 1, 1, 12)12 - AIC:3609.674260469664\n",
      "ARIMA(1, 1, 1)x(0, 0, 0, 12)12 - AIC:4861.993345626865\n",
      "ARIMA(1, 1, 1)x(0, 0, 1, 12)12 - AIC:4463.146448621474\n",
      "ARIMA(1, 1, 1)x(0, 1, 0, 12)12 - AIC:3653.366278523353\n",
      "ARIMA(1, 1, 1)x(0, 1, 1, 12)12 - AIC:3522.6087005315812\n",
      "ARIMA(1, 1, 1)x(1, 0, 0, 12)12 - AIC:3663.6395266772543\n",
      "ARIMA(1, 1, 1)x(1, 0, 1, 12)12 - AIC:3650.9618546910483\n",
      "ARIMA(1, 1, 1)x(1, 1, 0, 12)12 - AIC:3532.6943655021505\n",
      "ARIMA(1, 1, 1)x(1, 1, 1, 12)12 - AIC:3523.2582074840366\n"
     ]
    }
   ],
   "source": [
    "for param in pdq:\n",
    "    for param_seasonal in seasonal_pdq:\n",
    "        try:\n",
    "            mod = sm.tsa.statespace.SARIMAX(y,order=param,seasonal_order=param_seasonal, \n",
    "                                            enforce_stationarity=False, \n",
    "                                            enforce_invertibility=False)\n",
    "\n",
    "            results = mod.fit()\n",
    "            print('ARIMA{}x{}12 - AIC:{}'.format(param, param_seasonal, results.aic))\n",
    "        except:\n",
    "            continue"
   ]
  },
  {
   "cell_type": "code",
   "execution_count": 68,
   "id": "8f1ab119",
   "metadata": {},
   "outputs": [],
   "source": [
    "y=data['Sales'] "
   ]
  },
  {
   "cell_type": "code",
   "execution_count": 81,
   "id": "71cea462",
   "metadata": {},
   "outputs": [],
   "source": [
    "mod = sm.tsa.statespace.SARIMAX(y,\n",
    "                                order=(1, 1, 1),\n",
    "                                seasonal_order=(1, 1, 0, 12),\n",
    "                                enforce_stationarity=False,\n",
    "                                enforce_invertibility=False)\n",
    "results = mod.fit() \n"
   ]
  },
  {
   "cell_type": "code",
   "execution_count": 70,
   "id": "ea4ef67c",
   "metadata": {},
   "outputs": [
    {
     "data": {
      "text/plain": [
       "<statsmodels.tsa.statespace.sarimax.SARIMAXResultsWrapper at 0x259030eeec0>"
      ]
     },
     "execution_count": 70,
     "metadata": {},
     "output_type": "execute_result"
    }
   ],
   "source": [
    "results"
   ]
  },
  {
   "cell_type": "code",
   "execution_count": 71,
   "id": "8d2d5604",
   "metadata": {},
   "outputs": [],
   "source": [
    "import pickle\n",
    "# Save the trained model to a pickle file\n",
    "with open('my_model.pkl', 'wb') as f: \n",
    "    pickle.dump(results, f)\n"
   ]
  },
  {
   "cell_type": "code",
   "execution_count": 72,
   "id": "51d9822a",
   "metadata": {},
   "outputs": [],
   "source": [
    "# Load the pickle file\n",
    "with open('my_model.pkl', 'rb') as f: \n",
    "    my_model = pickle.load(f)"
   ]
  },
  {
   "cell_type": "code",
   "execution_count": 73,
   "id": "7dbaf0fe",
   "metadata": {},
   "outputs": [
    {
     "data": {
      "text/plain": [
       "Month\n",
       "1992-01-01     790\n",
       "1992-01-02     539\n",
       "1992-01-03     535\n",
       "1992-01-04     523\n",
       "1992-01-05     552\n",
       "              ... \n",
       "2019-01-06     672\n",
       "2019-01-07     646\n",
       "2019-01-08    1226\n",
       "2019-01-09     952\n",
       "2019-01-10     710\n",
       "Name: Sales, Length: 334, dtype: int64"
      ]
     },
     "execution_count": 73,
     "metadata": {},
     "output_type": "execute_result"
    }
   ],
   "source": [
    "y "
   ]
  },
  {
   "cell_type": "code",
   "execution_count": 74,
   "id": "c3995730",
   "metadata": {},
   "outputs": [
    {
     "data": {
      "text/plain": [
       "pandas.core.series.Series"
      ]
     },
     "execution_count": 74,
     "metadata": {},
     "output_type": "execute_result"
    }
   ],
   "source": [
    "type(y) "
   ]
  },
  {
   "cell_type": "code",
   "execution_count": 75,
   "id": "994c7e98",
   "metadata": {},
   "outputs": [],
   "source": [
    "pred = my_model.get_prediction(start=pd.to_datetime('2019-01-01'), dynamic=False) \n",
    "pred_ci = pred.conf_int() \n"
   ]
  },
  {
   "cell_type": "code",
   "execution_count": 76,
   "id": "bfef7109",
   "metadata": {},
   "outputs": [
    {
     "data": {
      "text/plain": [
       "<statsmodels.tsa.statespace.mlemodel.PredictionResultsWrapper at 0x2597cfa84c0>"
      ]
     },
     "execution_count": 76,
     "metadata": {},
     "output_type": "execute_result"
    }
   ],
   "source": [
    "pred "
   ]
  },
  {
   "cell_type": "code",
   "execution_count": 77,
   "id": "7d558d63",
   "metadata": {},
   "outputs": [
    {
     "name": "stdout",
     "output_type": "stream",
     "text": [
      "The Mean Squared Error of our forecasts is 5047.4\n"
     ]
    }
   ],
   "source": [
    "y_forecasted = pred.predicted_mean \n",
    "y_truth = data['Sales'] \n",
    "mse = ((y_forecasted - y_truth) ** 2).mean() \n",
    "print('The Mean Squared Error of our forecasts is {}'.format(round(mse, 2))) "
   ]
  },
  {
   "cell_type": "code",
   "execution_count": 78,
   "id": "9970b419",
   "metadata": {},
   "outputs": [
    {
     "name": "stdout",
     "output_type": "stream",
     "text": [
      "The Root Mean Squared Error of our forecasts is 71.05\n"
     ]
    }
   ],
   "source": [
    "print('The Root Mean Squared Error of our forecasts is {}'.format(round(np.sqrt(mse), 2))) "
   ]
  },
  {
   "cell_type": "code",
   "execution_count": 79,
   "id": "8127dd7f",
   "metadata": {},
   "outputs": [
    {
     "name": "stdout",
     "output_type": "stream",
     "text": [
      "enter the no of months : 5\n"
     ]
    }
   ],
   "source": [
    "n=int(input(\"enter the no of months : \")) "
   ]
  },
  {
   "cell_type": "code",
   "execution_count": 80,
   "id": "a6b843f9",
   "metadata": {},
   "outputs": [],
   "source": [
    "pred_uc = my_model.get_forecast(steps=n) \n",
    "pred_ci = pred_uc.conf_int() "
   ]
  },
  {
   "cell_type": "code",
   "execution_count": 35,
   "id": "20fdcaf1",
   "metadata": {},
   "outputs": [
    {
     "name": "stdout",
     "output_type": "stream",
     "text": [
      "<statsmodels.tsa.statespace.mlemodel.PredictionResultsWrapper object at 0x000002597CE77DC0>\n"
     ]
    }
   ],
   "source": [
    "print(pred_uc) "
   ]
  },
  {
   "cell_type": "code",
   "execution_count": 36,
   "id": "9730b3c5",
   "metadata": {},
   "outputs": [],
   "source": [
    "pred__mean=(pred_ci['lower Sales']+pred_ci['upper Sales'])/2 "
   ]
  },
  {
   "cell_type": "code",
   "execution_count": 37,
   "id": "36b92f4b",
   "metadata": {},
   "outputs": [],
   "source": [
    "check=np.ceil(pred__mean) "
   ]
  },
  {
   "cell_type": "code",
   "execution_count": 38,
   "id": "cfaf3b62",
   "metadata": {},
   "outputs": [
    {
     "data": {
      "text/plain": [
       "pandas.core.series.Series"
      ]
     },
     "execution_count": 38,
     "metadata": {},
     "output_type": "execute_result"
    }
   ],
   "source": [
    "type(pred__mean) "
   ]
  },
  {
   "cell_type": "code",
   "execution_count": 39,
   "id": "24084553",
   "metadata": {},
   "outputs": [],
   "source": [
    "data = np.array(pred__mean) "
   ]
  },
  {
   "cell_type": "code",
   "execution_count": 40,
   "id": "7676fa1e",
   "metadata": {},
   "outputs": [],
   "source": [
    "forecast=list(data) "
   ]
  },
  {
   "cell_type": "code",
   "execution_count": 41,
   "id": "6fb94c84",
   "metadata": {},
   "outputs": [
    {
     "name": "stdout",
     "output_type": "stream",
     "text": [
      "[721.804814929874, 1230.7837687893202, 1129.3170620764024, 625.7623328426579, 646.5369012070996]\n"
     ]
    }
   ],
   "source": [
    "print(forecast) "
   ]
  },
  {
   "cell_type": "code",
   "execution_count": 42,
   "id": "dcc7bd8c",
   "metadata": {},
   "outputs": [],
   "source": [
    "forecast_index = pd.date_range(start='2020-01-01',periods=n,freq='MS') "
   ]
  },
  {
   "cell_type": "code",
   "execution_count": 43,
   "id": "9db9acad",
   "metadata": {},
   "outputs": [],
   "source": [
    "forecast_df = pd.DataFrame(data=forecast,index=forecast_index,columns=['Forecast']) "
   ]
  },
  {
   "cell_type": "code",
   "execution_count": 44,
   "id": "46f4fe2c",
   "metadata": {},
   "outputs": [
    {
     "name": "stdout",
     "output_type": "stream",
     "text": [
      "<class 'pandas.core.frame.DataFrame'>\n"
     ]
    }
   ],
   "source": [
    "print(type(forecast_df)) "
   ]
  },
  {
   "cell_type": "code",
   "execution_count": 45,
   "id": "4ba46a98",
   "metadata": {},
   "outputs": [
    {
     "data": {
      "text/html": [
       "<div>\n",
       "<style scoped>\n",
       "    .dataframe tbody tr th:only-of-type {\n",
       "        vertical-align: middle;\n",
       "    }\n",
       "\n",
       "    .dataframe tbody tr th {\n",
       "        vertical-align: top;\n",
       "    }\n",
       "\n",
       "    .dataframe thead th {\n",
       "        text-align: right;\n",
       "    }\n",
       "</style>\n",
       "<table border=\"1\" class=\"dataframe\">\n",
       "  <thead>\n",
       "    <tr style=\"text-align: right;\">\n",
       "      <th></th>\n",
       "      <th>Forecast</th>\n",
       "    </tr>\n",
       "  </thead>\n",
       "  <tbody>\n",
       "    <tr>\n",
       "      <th>2020-01-01</th>\n",
       "      <td>721.804815</td>\n",
       "    </tr>\n",
       "    <tr>\n",
       "      <th>2020-02-01</th>\n",
       "      <td>1230.783769</td>\n",
       "    </tr>\n",
       "    <tr>\n",
       "      <th>2020-03-01</th>\n",
       "      <td>1129.317062</td>\n",
       "    </tr>\n",
       "    <tr>\n",
       "      <th>2020-04-01</th>\n",
       "      <td>625.762333</td>\n",
       "    </tr>\n",
       "    <tr>\n",
       "      <th>2020-05-01</th>\n",
       "      <td>646.536901</td>\n",
       "    </tr>\n",
       "  </tbody>\n",
       "</table>\n",
       "</div>"
      ],
      "text/plain": [
       "               Forecast\n",
       "2020-01-01   721.804815\n",
       "2020-02-01  1230.783769\n",
       "2020-03-01  1129.317062\n",
       "2020-04-01   625.762333\n",
       "2020-05-01   646.536901"
      ]
     },
     "execution_count": 45,
     "metadata": {},
     "output_type": "execute_result"
    }
   ],
   "source": [
    "forecast_df"
   ]
  },
  {
   "cell_type": "code",
   "execution_count": 46,
   "id": "62340b64",
   "metadata": {},
   "outputs": [
    {
     "data": {
      "text/plain": [
       "array([ 721.80481493, 1230.78376879, 1129.31706208,  625.76233284,\n",
       "        646.53690121])"
      ]
     },
     "execution_count": 46,
     "metadata": {},
     "output_type": "execute_result"
    }
   ],
   "source": [
    "data"
   ]
  },
  {
   "cell_type": "code",
   "execution_count": null,
   "id": "63ca8462",
   "metadata": {},
   "outputs": [],
   "source": []
  }
 ],
 "metadata": {
  "kernelspec": {
   "display_name": "Python 3 (ipykernel)",
   "language": "python",
   "name": "python3"
  },
  "language_info": {
   "codemirror_mode": {
    "name": "ipython",
    "version": 3
   },
   "file_extension": ".py",
   "mimetype": "text/x-python",
   "name": "python",
   "nbconvert_exporter": "python",
   "pygments_lexer": "ipython3",
   "version": "3.10.1"
  }
 },
 "nbformat": 4,
 "nbformat_minor": 5
}
